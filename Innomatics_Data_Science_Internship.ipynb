{
  "nbformat": 4,
  "nbformat_minor": 0,
  "metadata": {
    "colab": {
      "provenance": []
    },
    "kernelspec": {
      "name": "python3",
      "display_name": "Python 3"
    },
    "language_info": {
      "name": "python"
    }
  },
  "cells": [
    {
      "cell_type": "code",
      "execution_count": null,
      "metadata": {
        "id": "FVzgX1AEpWOk"
      },
      "outputs": [],
      "source": [
        "import pandas as pd\n"
      ]
    },
    {
      "cell_type": "code",
      "source": [
        "movies_df = pd.read_csv('movies.csv')\n",
        "print(\"Shape of 'movies.csv':\", movies_df.shape)"
      ],
      "metadata": {
        "colab": {
          "base_uri": "https://localhost:8080/"
        },
        "id": "N3YkfNsr5gq5",
        "outputId": "e22ddc29-cb3d-4628-f71f-d09b1f77e589"
      },
      "execution_count": null,
      "outputs": [
        {
          "output_type": "stream",
          "name": "stdout",
          "text": [
            "Shape of 'movies.csv': (9742, 3)\n"
          ]
        }
      ]
    },
    {
      "cell_type": "code",
      "source": [
        "ratings_df = pd.read_csv('ratings.csv')\n",
        "print(\"Shape of 'ratings.csv':\", ratings_df.shape)"
      ],
      "metadata": {
        "colab": {
          "base_uri": "https://localhost:8080/"
        },
        "id": "VgjvtEhr52V_",
        "outputId": "77d3dbb0-d008-4301-d534-f2818167061c"
      },
      "execution_count": null,
      "outputs": [
        {
          "output_type": "stream",
          "name": "stdout",
          "text": [
            "Shape of 'ratings.csv': (100836, 4)\n"
          ]
        }
      ]
    },
    {
      "cell_type": "code",
      "source": [
        "# Replace 'ratings.csv' with the actual file path\n",
        "ratings_df = pd.read_csv('ratings.csv')\n",
        "\n",
        "# Get the number of unique userId values\n",
        "unique_user_ids = ratings_df['userId'].nunique()\n",
        "\n",
        "# Display the result\n",
        "print(\"Number of unique userIds in 'ratings.csv':\", unique_user_ids)\n"
      ],
      "metadata": {
        "colab": {
          "base_uri": "https://localhost:8080/"
        },
        "id": "Qq0d8T3f6m7z",
        "outputId": "38285a25-b69b-47dc-ae94-b9c4c1849cb1"
      },
      "execution_count": null,
      "outputs": [
        {
          "output_type": "stream",
          "name": "stdout",
          "text": [
            "Number of unique userIds in 'ratings.csv': 610\n"
          ]
        }
      ]
    },
    {
      "cell_type": "markdown",
      "source": [],
      "metadata": {
        "id": "bUruzNfnqPl4"
      }
    },
    {
      "cell_type": "code",
      "source": [
        "# Merge the data frames based on a movieID\n",
        "merged_df = pd.merge(ratings_df,movies_df, on='movieId', how='inner')\n",
        "\n",
        "merged_df\n",
        "\n"
      ],
      "metadata": {
        "colab": {
          "base_uri": "https://localhost:8080/",
          "height": 423
        },
        "id": "WiNFJa-bqObR",
        "outputId": "6a02d03b-6757-464c-a6da-80ec4a70cf64"
      },
      "execution_count": null,
      "outputs": [
        {
          "output_type": "execute_result",
          "data": {
            "text/plain": [
              "        userId  movieId  rating   timestamp                             title  \\\n",
              "0            1        1     4.0   964982703                  Toy Story (1995)   \n",
              "1            5        1     4.0   847434962                  Toy Story (1995)   \n",
              "2            7        1     4.5  1106635946                  Toy Story (1995)   \n",
              "3           15        1     2.5  1510577970                  Toy Story (1995)   \n",
              "4           17        1     4.5  1305696483                  Toy Story (1995)   \n",
              "...        ...      ...     ...         ...                               ...   \n",
              "100831     610   160341     2.5  1479545749                  Bloodmoon (1997)   \n",
              "100832     610   160527     4.5  1479544998  Sympathy for the Underdog (1971)   \n",
              "100833     610   160836     3.0  1493844794                     Hazard (2005)   \n",
              "100834     610   163937     3.5  1493848789                Blair Witch (2016)   \n",
              "100835     610   163981     3.5  1493850155                         31 (2016)   \n",
              "\n",
              "                                             genres  \n",
              "0       Adventure|Animation|Children|Comedy|Fantasy  \n",
              "1       Adventure|Animation|Children|Comedy|Fantasy  \n",
              "2       Adventure|Animation|Children|Comedy|Fantasy  \n",
              "3       Adventure|Animation|Children|Comedy|Fantasy  \n",
              "4       Adventure|Animation|Children|Comedy|Fantasy  \n",
              "...                                             ...  \n",
              "100831                              Action|Thriller  \n",
              "100832                           Action|Crime|Drama  \n",
              "100833                        Action|Drama|Thriller  \n",
              "100834                              Horror|Thriller  \n",
              "100835                                       Horror  \n",
              "\n",
              "[100836 rows x 6 columns]"
            ],
            "text/html": [
              "\n",
              "  <div id=\"df-e0d0fef6-fc0d-497e-9571-669ff2ced027\" class=\"colab-df-container\">\n",
              "    <div>\n",
              "<style scoped>\n",
              "    .dataframe tbody tr th:only-of-type {\n",
              "        vertical-align: middle;\n",
              "    }\n",
              "\n",
              "    .dataframe tbody tr th {\n",
              "        vertical-align: top;\n",
              "    }\n",
              "\n",
              "    .dataframe thead th {\n",
              "        text-align: right;\n",
              "    }\n",
              "</style>\n",
              "<table border=\"1\" class=\"dataframe\">\n",
              "  <thead>\n",
              "    <tr style=\"text-align: right;\">\n",
              "      <th></th>\n",
              "      <th>userId</th>\n",
              "      <th>movieId</th>\n",
              "      <th>rating</th>\n",
              "      <th>timestamp</th>\n",
              "      <th>title</th>\n",
              "      <th>genres</th>\n",
              "    </tr>\n",
              "  </thead>\n",
              "  <tbody>\n",
              "    <tr>\n",
              "      <th>0</th>\n",
              "      <td>1</td>\n",
              "      <td>1</td>\n",
              "      <td>4.0</td>\n",
              "      <td>964982703</td>\n",
              "      <td>Toy Story (1995)</td>\n",
              "      <td>Adventure|Animation|Children|Comedy|Fantasy</td>\n",
              "    </tr>\n",
              "    <tr>\n",
              "      <th>1</th>\n",
              "      <td>5</td>\n",
              "      <td>1</td>\n",
              "      <td>4.0</td>\n",
              "      <td>847434962</td>\n",
              "      <td>Toy Story (1995)</td>\n",
              "      <td>Adventure|Animation|Children|Comedy|Fantasy</td>\n",
              "    </tr>\n",
              "    <tr>\n",
              "      <th>2</th>\n",
              "      <td>7</td>\n",
              "      <td>1</td>\n",
              "      <td>4.5</td>\n",
              "      <td>1106635946</td>\n",
              "      <td>Toy Story (1995)</td>\n",
              "      <td>Adventure|Animation|Children|Comedy|Fantasy</td>\n",
              "    </tr>\n",
              "    <tr>\n",
              "      <th>3</th>\n",
              "      <td>15</td>\n",
              "      <td>1</td>\n",
              "      <td>2.5</td>\n",
              "      <td>1510577970</td>\n",
              "      <td>Toy Story (1995)</td>\n",
              "      <td>Adventure|Animation|Children|Comedy|Fantasy</td>\n",
              "    </tr>\n",
              "    <tr>\n",
              "      <th>4</th>\n",
              "      <td>17</td>\n",
              "      <td>1</td>\n",
              "      <td>4.5</td>\n",
              "      <td>1305696483</td>\n",
              "      <td>Toy Story (1995)</td>\n",
              "      <td>Adventure|Animation|Children|Comedy|Fantasy</td>\n",
              "    </tr>\n",
              "    <tr>\n",
              "      <th>...</th>\n",
              "      <td>...</td>\n",
              "      <td>...</td>\n",
              "      <td>...</td>\n",
              "      <td>...</td>\n",
              "      <td>...</td>\n",
              "      <td>...</td>\n",
              "    </tr>\n",
              "    <tr>\n",
              "      <th>100831</th>\n",
              "      <td>610</td>\n",
              "      <td>160341</td>\n",
              "      <td>2.5</td>\n",
              "      <td>1479545749</td>\n",
              "      <td>Bloodmoon (1997)</td>\n",
              "      <td>Action|Thriller</td>\n",
              "    </tr>\n",
              "    <tr>\n",
              "      <th>100832</th>\n",
              "      <td>610</td>\n",
              "      <td>160527</td>\n",
              "      <td>4.5</td>\n",
              "      <td>1479544998</td>\n",
              "      <td>Sympathy for the Underdog (1971)</td>\n",
              "      <td>Action|Crime|Drama</td>\n",
              "    </tr>\n",
              "    <tr>\n",
              "      <th>100833</th>\n",
              "      <td>610</td>\n",
              "      <td>160836</td>\n",
              "      <td>3.0</td>\n",
              "      <td>1493844794</td>\n",
              "      <td>Hazard (2005)</td>\n",
              "      <td>Action|Drama|Thriller</td>\n",
              "    </tr>\n",
              "    <tr>\n",
              "      <th>100834</th>\n",
              "      <td>610</td>\n",
              "      <td>163937</td>\n",
              "      <td>3.5</td>\n",
              "      <td>1493848789</td>\n",
              "      <td>Blair Witch (2016)</td>\n",
              "      <td>Horror|Thriller</td>\n",
              "    </tr>\n",
              "    <tr>\n",
              "      <th>100835</th>\n",
              "      <td>610</td>\n",
              "      <td>163981</td>\n",
              "      <td>3.5</td>\n",
              "      <td>1493850155</td>\n",
              "      <td>31 (2016)</td>\n",
              "      <td>Horror</td>\n",
              "    </tr>\n",
              "  </tbody>\n",
              "</table>\n",
              "<p>100836 rows × 6 columns</p>\n",
              "</div>\n",
              "    <div class=\"colab-df-buttons\">\n",
              "\n",
              "  <div class=\"colab-df-container\">\n",
              "    <button class=\"colab-df-convert\" onclick=\"convertToInteractive('df-e0d0fef6-fc0d-497e-9571-669ff2ced027')\"\n",
              "            title=\"Convert this dataframe to an interactive table.\"\n",
              "            style=\"display:none;\">\n",
              "\n",
              "  <svg xmlns=\"http://www.w3.org/2000/svg\" height=\"24px\" viewBox=\"0 -960 960 960\">\n",
              "    <path d=\"M120-120v-720h720v720H120Zm60-500h600v-160H180v160Zm220 220h160v-160H400v160Zm0 220h160v-160H400v160ZM180-400h160v-160H180v160Zm440 0h160v-160H620v160ZM180-180h160v-160H180v160Zm440 0h160v-160H620v160Z\"/>\n",
              "  </svg>\n",
              "    </button>\n",
              "\n",
              "  <style>\n",
              "    .colab-df-container {\n",
              "      display:flex;\n",
              "      gap: 12px;\n",
              "    }\n",
              "\n",
              "    .colab-df-convert {\n",
              "      background-color: #E8F0FE;\n",
              "      border: none;\n",
              "      border-radius: 50%;\n",
              "      cursor: pointer;\n",
              "      display: none;\n",
              "      fill: #1967D2;\n",
              "      height: 32px;\n",
              "      padding: 0 0 0 0;\n",
              "      width: 32px;\n",
              "    }\n",
              "\n",
              "    .colab-df-convert:hover {\n",
              "      background-color: #E2EBFA;\n",
              "      box-shadow: 0px 1px 2px rgba(60, 64, 67, 0.3), 0px 1px 3px 1px rgba(60, 64, 67, 0.15);\n",
              "      fill: #174EA6;\n",
              "    }\n",
              "\n",
              "    .colab-df-buttons div {\n",
              "      margin-bottom: 4px;\n",
              "    }\n",
              "\n",
              "    [theme=dark] .colab-df-convert {\n",
              "      background-color: #3B4455;\n",
              "      fill: #D2E3FC;\n",
              "    }\n",
              "\n",
              "    [theme=dark] .colab-df-convert:hover {\n",
              "      background-color: #434B5C;\n",
              "      box-shadow: 0px 1px 3px 1px rgba(0, 0, 0, 0.15);\n",
              "      filter: drop-shadow(0px 1px 2px rgba(0, 0, 0, 0.3));\n",
              "      fill: #FFFFFF;\n",
              "    }\n",
              "  </style>\n",
              "\n",
              "    <script>\n",
              "      const buttonEl =\n",
              "        document.querySelector('#df-e0d0fef6-fc0d-497e-9571-669ff2ced027 button.colab-df-convert');\n",
              "      buttonEl.style.display =\n",
              "        google.colab.kernel.accessAllowed ? 'block' : 'none';\n",
              "\n",
              "      async function convertToInteractive(key) {\n",
              "        const element = document.querySelector('#df-e0d0fef6-fc0d-497e-9571-669ff2ced027');\n",
              "        const dataTable =\n",
              "          await google.colab.kernel.invokeFunction('convertToInteractive',\n",
              "                                                    [key], {});\n",
              "        if (!dataTable) return;\n",
              "\n",
              "        const docLinkHtml = 'Like what you see? Visit the ' +\n",
              "          '<a target=\"_blank\" href=https://colab.research.google.com/notebooks/data_table.ipynb>data table notebook</a>'\n",
              "          + ' to learn more about interactive tables.';\n",
              "        element.innerHTML = '';\n",
              "        dataTable['output_type'] = 'display_data';\n",
              "        await google.colab.output.renderOutput(dataTable, element);\n",
              "        const docLink = document.createElement('div');\n",
              "        docLink.innerHTML = docLinkHtml;\n",
              "        element.appendChild(docLink);\n",
              "      }\n",
              "    </script>\n",
              "  </div>\n",
              "\n",
              "\n",
              "<div id=\"df-0d5ec91b-c3dc-4d6e-a35c-59cda2deedc8\">\n",
              "  <button class=\"colab-df-quickchart\" onclick=\"quickchart('df-0d5ec91b-c3dc-4d6e-a35c-59cda2deedc8')\"\n",
              "            title=\"Suggest charts\"\n",
              "            style=\"display:none;\">\n",
              "\n",
              "<svg xmlns=\"http://www.w3.org/2000/svg\" height=\"24px\"viewBox=\"0 0 24 24\"\n",
              "     width=\"24px\">\n",
              "    <g>\n",
              "        <path d=\"M19 3H5c-1.1 0-2 .9-2 2v14c0 1.1.9 2 2 2h14c1.1 0 2-.9 2-2V5c0-1.1-.9-2-2-2zM9 17H7v-7h2v7zm4 0h-2V7h2v10zm4 0h-2v-4h2v4z\"/>\n",
              "    </g>\n",
              "</svg>\n",
              "  </button>\n",
              "\n",
              "<style>\n",
              "  .colab-df-quickchart {\n",
              "      --bg-color: #E8F0FE;\n",
              "      --fill-color: #1967D2;\n",
              "      --hover-bg-color: #E2EBFA;\n",
              "      --hover-fill-color: #174EA6;\n",
              "      --disabled-fill-color: #AAA;\n",
              "      --disabled-bg-color: #DDD;\n",
              "  }\n",
              "\n",
              "  [theme=dark] .colab-df-quickchart {\n",
              "      --bg-color: #3B4455;\n",
              "      --fill-color: #D2E3FC;\n",
              "      --hover-bg-color: #434B5C;\n",
              "      --hover-fill-color: #FFFFFF;\n",
              "      --disabled-bg-color: #3B4455;\n",
              "      --disabled-fill-color: #666;\n",
              "  }\n",
              "\n",
              "  .colab-df-quickchart {\n",
              "    background-color: var(--bg-color);\n",
              "    border: none;\n",
              "    border-radius: 50%;\n",
              "    cursor: pointer;\n",
              "    display: none;\n",
              "    fill: var(--fill-color);\n",
              "    height: 32px;\n",
              "    padding: 0;\n",
              "    width: 32px;\n",
              "  }\n",
              "\n",
              "  .colab-df-quickchart:hover {\n",
              "    background-color: var(--hover-bg-color);\n",
              "    box-shadow: 0 1px 2px rgba(60, 64, 67, 0.3), 0 1px 3px 1px rgba(60, 64, 67, 0.15);\n",
              "    fill: var(--button-hover-fill-color);\n",
              "  }\n",
              "\n",
              "  .colab-df-quickchart-complete:disabled,\n",
              "  .colab-df-quickchart-complete:disabled:hover {\n",
              "    background-color: var(--disabled-bg-color);\n",
              "    fill: var(--disabled-fill-color);\n",
              "    box-shadow: none;\n",
              "  }\n",
              "\n",
              "  .colab-df-spinner {\n",
              "    border: 2px solid var(--fill-color);\n",
              "    border-color: transparent;\n",
              "    border-bottom-color: var(--fill-color);\n",
              "    animation:\n",
              "      spin 1s steps(1) infinite;\n",
              "  }\n",
              "\n",
              "  @keyframes spin {\n",
              "    0% {\n",
              "      border-color: transparent;\n",
              "      border-bottom-color: var(--fill-color);\n",
              "      border-left-color: var(--fill-color);\n",
              "    }\n",
              "    20% {\n",
              "      border-color: transparent;\n",
              "      border-left-color: var(--fill-color);\n",
              "      border-top-color: var(--fill-color);\n",
              "    }\n",
              "    30% {\n",
              "      border-color: transparent;\n",
              "      border-left-color: var(--fill-color);\n",
              "      border-top-color: var(--fill-color);\n",
              "      border-right-color: var(--fill-color);\n",
              "    }\n",
              "    40% {\n",
              "      border-color: transparent;\n",
              "      border-right-color: var(--fill-color);\n",
              "      border-top-color: var(--fill-color);\n",
              "    }\n",
              "    60% {\n",
              "      border-color: transparent;\n",
              "      border-right-color: var(--fill-color);\n",
              "    }\n",
              "    80% {\n",
              "      border-color: transparent;\n",
              "      border-right-color: var(--fill-color);\n",
              "      border-bottom-color: var(--fill-color);\n",
              "    }\n",
              "    90% {\n",
              "      border-color: transparent;\n",
              "      border-bottom-color: var(--fill-color);\n",
              "    }\n",
              "  }\n",
              "</style>\n",
              "\n",
              "  <script>\n",
              "    async function quickchart(key) {\n",
              "      const quickchartButtonEl =\n",
              "        document.querySelector('#' + key + ' button');\n",
              "      quickchartButtonEl.disabled = true;  // To prevent multiple clicks.\n",
              "      quickchartButtonEl.classList.add('colab-df-spinner');\n",
              "      try {\n",
              "        const charts = await google.colab.kernel.invokeFunction(\n",
              "            'suggestCharts', [key], {});\n",
              "      } catch (error) {\n",
              "        console.error('Error during call to suggestCharts:', error);\n",
              "      }\n",
              "      quickchartButtonEl.classList.remove('colab-df-spinner');\n",
              "      quickchartButtonEl.classList.add('colab-df-quickchart-complete');\n",
              "    }\n",
              "    (() => {\n",
              "      let quickchartButtonEl =\n",
              "        document.querySelector('#df-0d5ec91b-c3dc-4d6e-a35c-59cda2deedc8 button');\n",
              "      quickchartButtonEl.style.display =\n",
              "        google.colab.kernel.accessAllowed ? 'block' : 'none';\n",
              "    })();\n",
              "  </script>\n",
              "</div>\n",
              "\n",
              "  <div id=\"id_693f00d2-4fb5-4131-86f6-6876f0fb137d\">\n",
              "    <style>\n",
              "      .colab-df-generate {\n",
              "        background-color: #E8F0FE;\n",
              "        border: none;\n",
              "        border-radius: 50%;\n",
              "        cursor: pointer;\n",
              "        display: none;\n",
              "        fill: #1967D2;\n",
              "        height: 32px;\n",
              "        padding: 0 0 0 0;\n",
              "        width: 32px;\n",
              "      }\n",
              "\n",
              "      .colab-df-generate:hover {\n",
              "        background-color: #E2EBFA;\n",
              "        box-shadow: 0px 1px 2px rgba(60, 64, 67, 0.3), 0px 1px 3px 1px rgba(60, 64, 67, 0.15);\n",
              "        fill: #174EA6;\n",
              "      }\n",
              "\n",
              "      [theme=dark] .colab-df-generate {\n",
              "        background-color: #3B4455;\n",
              "        fill: #D2E3FC;\n",
              "      }\n",
              "\n",
              "      [theme=dark] .colab-df-generate:hover {\n",
              "        background-color: #434B5C;\n",
              "        box-shadow: 0px 1px 3px 1px rgba(0, 0, 0, 0.15);\n",
              "        filter: drop-shadow(0px 1px 2px rgba(0, 0, 0, 0.3));\n",
              "        fill: #FFFFFF;\n",
              "      }\n",
              "    </style>\n",
              "    <button class=\"colab-df-generate\" onclick=\"generateWithVariable('merged_df')\"\n",
              "            title=\"Generate code using this dataframe.\"\n",
              "            style=\"display:none;\">\n",
              "\n",
              "  <svg xmlns=\"http://www.w3.org/2000/svg\" height=\"24px\"viewBox=\"0 0 24 24\"\n",
              "       width=\"24px\">\n",
              "    <path d=\"M7,19H8.4L18.45,9,17,7.55,7,17.6ZM5,21V16.75L18.45,3.32a2,2,0,0,1,2.83,0l1.4,1.43a1.91,1.91,0,0,1,.58,1.4,1.91,1.91,0,0,1-.58,1.4L9.25,21ZM18.45,9,17,7.55Zm-12,3A5.31,5.31,0,0,0,4.9,8.1,5.31,5.31,0,0,0,1,6.5,5.31,5.31,0,0,0,4.9,4.9,5.31,5.31,0,0,0,6.5,1,5.31,5.31,0,0,0,8.1,4.9,5.31,5.31,0,0,0,12,6.5,5.46,5.46,0,0,0,6.5,12Z\"/>\n",
              "  </svg>\n",
              "    </button>\n",
              "    <script>\n",
              "      (() => {\n",
              "      const buttonEl =\n",
              "        document.querySelector('#id_693f00d2-4fb5-4131-86f6-6876f0fb137d button.colab-df-generate');\n",
              "      buttonEl.style.display =\n",
              "        google.colab.kernel.accessAllowed ? 'block' : 'none';\n",
              "\n",
              "      buttonEl.onclick = () => {\n",
              "        google.colab.notebook.generateWithVariable('merged_df');\n",
              "      }\n",
              "      })();\n",
              "    </script>\n",
              "  </div>\n",
              "\n",
              "    </div>\n",
              "  </div>\n"
            ]
          },
          "metadata": {},
          "execution_count": 31
        }
      ]
    },
    {
      "cell_type": "markdown",
      "source": [
        "Which movie has recieved maximum number of user ratings?\n"
      ],
      "metadata": {
        "id": "M2T8ZfqfFlZe"
      }
    },
    {
      "cell_type": "code",
      "source": [
        "# Group by movieId and count the number of ratings for each movie\n",
        "movie_ratings_count = ratings_df.groupby('movieId')['userId'].count()\n",
        "\n",
        "# Find the movieId with the maximum number of ratings\n",
        "max_rated_movie_id = movie_ratings_count.idxmax()\n",
        "print(max_rated_movie_id)\n",
        "max_rated_movie_title = merged_df.loc[merged_df['movieId'] == max_rated_movie_id, 'title'].iloc[0]\n",
        "print(\"Movie with the maximum number of user ratings is:\", max_rated_movie_title)"
      ],
      "metadata": {
        "colab": {
          "base_uri": "https://localhost:8080/"
        },
        "id": "38fQPaZg9hio",
        "outputId": "da3d94ec-afc4-44e0-8a7a-ae723aa0d250"
      },
      "execution_count": null,
      "outputs": [
        {
          "output_type": "stream",
          "name": "stdout",
          "text": [
            "356\n",
            "Movie with the maximum number of user ratings is: Forrest Gump (1994)\n"
          ]
        }
      ]
    },
    {
      "cell_type": "markdown",
      "source": [
        "Select all the correct tags submitted by users to \"Matrix, The (1999)\" movie?"
      ],
      "metadata": {
        "id": "REORIi3OFeA-"
      }
    },
    {
      "cell_type": "code",
      "source": [
        "tags_df = pd.read_csv('tags.csv')\n",
        "\n",
        "# Assuming 'Matrix, The (1999)' movieId is known\n",
        "matrix_movie_id = 2571\n",
        "\n",
        "# Filter tags for the specific movie\n",
        "matrix_tags = tags_df[tags_df['movieId'] == matrix_movie_id]\n",
        "\n",
        "# Display the result\n",
        "print(\"Tags submitted by users for 'Matrix, The (1999)':\")\n",
        "print(matrix_tags[['userId', 'tag']])\n"
      ],
      "metadata": {
        "colab": {
          "base_uri": "https://localhost:8080/"
        },
        "id": "MpSObgKEA7d2",
        "outputId": "3ddd583d-e962-4bf8-8485-9fee07725eb3"
      },
      "execution_count": null,
      "outputs": [
        {
          "output_type": "stream",
          "name": "stdout",
          "text": [
            "Tags submitted by users for 'Matrix, The (1999)':\n",
            "      userId                 tag\n",
            "815      424        martial arts\n",
            "816      424              sci-fi\n",
            "1646     474  alternate universe\n",
            "2794     537          philosophy\n",
            "2795     537    post apocalyptic\n"
          ]
        }
      ]
    },
    {
      "cell_type": "markdown",
      "source": [
        "What is the average user rating for movie named \"Terminator 2: Judgment Day (1991)\"?"
      ],
      "metadata": {
        "id": "IUtOYealFVzH"
      }
    },
    {
      "cell_type": "code",
      "source": [
        "# Filter ratings for the movie \"Terminator 2: Judgment Day\"\n",
        "terminator_ratings = merged_df[merged_df['title'] == 'Terminator 2: Judgment Day (1991)']\n",
        "\n",
        "# Calculate the average rating for the movie\n",
        "average_rating = terminator_ratings['rating'].mean()\n",
        "\n",
        "print(\"Average rating for 'Terminator 2: Judgment Day':\",average_rating)"
      ],
      "metadata": {
        "colab": {
          "base_uri": "https://localhost:8080/"
        },
        "id": "bDGzGtS7BjMv",
        "outputId": "35553d17-3a96-40aa-d695-49eb20599afc"
      },
      "execution_count": null,
      "outputs": [
        {
          "output_type": "stream",
          "name": "stdout",
          "text": [
            "Average rating for 'Terminator 2: Judgment Day': 3.970982142857143\n"
          ]
        }
      ]
    },
    {
      "cell_type": "markdown",
      "source": [
        "How does the data distribution of user ratings for \"Fight Club (1999)\" movie looks like?"
      ],
      "metadata": {
        "id": "ofXEZMRBFPN1"
      }
    },
    {
      "cell_type": "code",
      "source": [
        "#Filter ratings for the movie \"Fight Club (1999)\"\n",
        "fight_club_ratings = merged_df[merged_df['title'] == 'Fight Club (1999)']\n",
        "\n",
        "# Check the data distribution of user ratings using a histogram\n",
        "plt.hist(fight_club_ratings['rating'], bins=5, edgecolor='black')\n",
        "plt.xlabel('Rating')\n",
        "plt.ylabel('Frequency')\n",
        "plt.title('User Rating Distribution for Fight Club (1999)')\n",
        "plt.show()\n",
        "\n",
        "# Alternatively, you can use descriptive statistics to summarize the ratings\n",
        "rating_stats = fight_club_ratings['rating'].describe()\n",
        "print(rating_stats)"
      ],
      "metadata": {
        "colab": {
          "base_uri": "https://localhost:8080/",
          "height": 628
        },
        "id": "8k2l_41PB6xT",
        "outputId": "2c0b1135-b86f-48ca-db5b-54ac965db2b2"
      },
      "execution_count": null,
      "outputs": [
        {
          "output_type": "display_data",
          "data": {
            "text/plain": [
              "<Figure size 640x480 with 1 Axes>"
            ],
            "image/png": "[encoded data removed]"
          },
          "metadata": {}
        },
        {
          "output_type": "stream",
          "name": "stdout",
          "text": [
            "count    218.000000\n",
            "mean       4.272936\n",
            "std        0.861384\n",
            "min        0.500000\n",
            "25%        4.000000\n",
            "50%        4.500000\n",
            "75%        5.000000\n",
            "max        5.000000\n",
            "Name: rating, dtype: float64\n"
          ]
        }
      ]
    },
    {
      "cell_type": "markdown",
      "source": [
        " IMPORTANT NOTE 1"
      ],
      "metadata": {
        "id": "Jv_ualsyFC_L"
      }
    },
    {
      "cell_type": "code",
      "source": [
        "# Step 1: Group user ratings by movieId and apply aggregation operations\n",
        "ratings_df = pd.read_csv('ratings.csv')  # Assuming you have a 'ratings.csv' file\n",
        "grouped_ratings = ratings_df.groupby('movieId').agg({'rating': ['count', 'mean']}).reset_index()\n",
        "\n",
        "# Rename columns for clarity\n",
        "grouped_ratings.columns = ['movieId', 'rating_count', 'rating_mean']\n",
        "\n",
        "# Step 2: Inner join with the 'movies.csv' dataframe\n",
        "movies_df = pd.read_csv('movies.csv')  # Assuming you have a 'movies.csv' file\n",
        "merged_df = pd.merge(movies_df, grouped_ratings, on='movieId', how='inner')\n",
        "\n",
        "# Step 3: Filter movies with more than 50 user ratings\n",
        "filtered_movies = merged_df[merged_df['rating_count'] > 50]\n",
        "\n",
        "# Display the result\n",
        "print(filtered_movies)\n"
      ],
      "metadata": {
        "colab": {
          "base_uri": "https://localhost:8080/"
        },
        "id": "Kj3HFKfwzjps",
        "outputId": "605648b0-287f-4cee-c20e-10768c539ca9"
      },
      "execution_count": null,
      "outputs": [
        {
          "output_type": "stream",
          "name": "stdout",
          "text": [
            "      movieId                             title  \\\n",
            "0           1                  Toy Story (1995)   \n",
            "1           2                    Jumanji (1995)   \n",
            "2           3           Grumpier Old Men (1995)   \n",
            "5           6                       Heat (1995)   \n",
            "6           7                    Sabrina (1995)   \n",
            "...       ...                               ...   \n",
            "8287   106782   Wolf of Wall Street, The (2013)   \n",
            "8354   109374  Grand Budapest Hotel, The (2014)   \n",
            "8358   109487               Interstellar (2014)   \n",
            "8457   112852    Guardians of the Galaxy (2014)   \n",
            "8673   122904                   Deadpool (2016)   \n",
            "\n",
            "                                           genres  rating_count  rating_mean  \n",
            "0     Adventure|Animation|Children|Comedy|Fantasy           215     3.920930  \n",
            "1                      Adventure|Children|Fantasy           110     3.431818  \n",
            "2                                  Comedy|Romance            52     3.259615  \n",
            "5                           Action|Crime|Thriller           102     3.946078  \n",
            "6                                  Comedy|Romance            54     3.185185  \n",
            "...                                           ...           ...          ...  \n",
            "8287                           Comedy|Crime|Drama            54     3.916667  \n",
            "8354                                 Comedy|Drama            52     3.778846  \n",
            "8358                                  Sci-Fi|IMAX            73     3.993151  \n",
            "8457                      Action|Adventure|Sci-Fi            59     4.050847  \n",
            "8673               Action|Adventure|Comedy|Sci-Fi            54     3.833333  \n",
            "\n",
            "[436 rows x 5 columns]\n"
          ]
        }
      ]
    },
    {
      "cell_type": "code",
      "source": [
        "filtered_movies.to_csv('file.csv', index=False)"
      ],
      "metadata": {
        "id": "wLnNyOKszplj"
      },
      "execution_count": null,
      "outputs": []
    },
    {
      "cell_type": "markdown",
      "source": [
        "Which movie is the most popular based on  average user ratings?\n"
      ],
      "metadata": {
        "id": "KghOsF2cClKp"
      }
    },
    {
      "cell_type": "code",
      "source": [
        "#Group the ratings by movieId and calculate count and mean\n",
        "ratings_grouped = ratings_df.groupby('movieId').agg({'rating': ['count', 'mean']})\n",
        "\n",
        "# Rename the columns for clarity\n",
        "ratings_grouped.columns = ['rating_count', 'rating_mean']\n",
        "\n",
        "# Merge the grouped ratings with the movies dataframe based on movieId\n",
        "merged_df = pd.merge(movies_df, ratings_grouped, left_on='movieId', right_index=True, how='inner')\n",
        "\n",
        "# Filter movies with more than 50 user ratings\n",
        "popular_movies = merged_df[merged_df['rating_count'] > 50]\n",
        "\n",
        "# Find the movie with the highest average rating among the popular movies\n",
        "most_popular_movie = popular_movies.loc[popular_movies['rating_mean'].idxmax()]\n",
        "\n",
        "print(most_popular_movie)"
      ],
      "metadata": {
        "colab": {
          "base_uri": "https://localhost:8080/"
        },
        "id": "14a1hMrWCRcU",
        "outputId": "eda26e8a-19ec-40bc-8d2e-4307fc676c0a"
      },
      "execution_count": null,
      "outputs": [
        {
          "output_type": "stream",
          "name": "stdout",
          "text": [
            "movieId                                      318\n",
            "title           Shawshank Redemption, The (1994)\n",
            "genres                               Crime|Drama\n",
            "rating_count                                 317\n",
            "rating_mean                             4.429022\n",
            "Name: 277, dtype: object\n"
          ]
        }
      ]
    },
    {
      "cell_type": "markdown",
      "source": [
        "Select all the correct options which comes under top 5 popular movies based on number of user ratings"
      ],
      "metadata": {
        "id": "otScOa_TE604"
      }
    },
    {
      "cell_type": "code",
      "source": [
        "# Sort the merged dataframe by the count of ratings in descending order\n",
        "top_popular_movies = merged_df.sort_values(by='rating_count', ascending=False)\n",
        "\n",
        "# Select the top 5 popular movies based on the number of user ratings\n",
        "top_5_popular_movies = top_popular_movies.head(5)\n",
        "\n",
        "print(top_5_popular_movies[['title', 'rating_count']])"
      ],
      "metadata": {
        "colab": {
          "base_uri": "https://localhost:8080/"
        },
        "id": "D5QFKka1Cv-F",
        "outputId": "aa3d2a13-4e8f-4a61-f7dd-f2f050c1f4b4"
      },
      "execution_count": null,
      "outputs": [
        {
          "output_type": "stream",
          "name": "stdout",
          "text": [
            "                                 title  rating_count\n",
            "314                Forrest Gump (1994)           329\n",
            "277   Shawshank Redemption, The (1994)           317\n",
            "257                Pulp Fiction (1994)           307\n",
            "510   Silence of the Lambs, The (1991)           279\n",
            "1939                Matrix, The (1999)           278\n"
          ]
        }
      ]
    },
    {
      "cell_type": "markdown",
      "source": [
        "Which Sci-Fi movie is \"third most popular\" based on the number of user ratings?"
      ],
      "metadata": {
        "id": "bnQRCA0PE3kZ"
      }
    },
    {
      "cell_type": "code",
      "source": [
        "# Identify Sci-Fi movies using the 'genres' column\n",
        "sci_fi_movies = movies_df[movies_df['genres'].str.contains('Sci-Fi')]\n",
        "\n",
        "# Merge Sci-Fi movies with ratings data\n",
        "sci_fi_ratings = pd.merge(ratings_df, sci_fi_movies, on='movieId', how='inner')\n",
        "\n",
        "# Group by movieId and count the number of ratings for each Sci-Fi movie\n",
        "sci_fi_ratings_count = sci_fi_ratings.groupby('movieId')['userId'].count()\n",
        "\n",
        "# Find the movieId with the third-highest number of ratings\n",
        "third_most_popular_sci_fi_id = sci_fi_ratings_count.sort_values(ascending=False).index[2]\n",
        "\n",
        "# Get the title of the third most popular Sci-Fi movie\n",
        "third_most_popular_sci_fi_title = movies_df.loc[movies_df['movieId'] == third_most_popular_sci_fi_id, 'title'].iloc[0]\n",
        "\n",
        "# Display the result\n",
        "print(\"Third most popular Sci-Fi movie based on user ratings is:\", third_most_popular_sci_fi_title)\n"
      ],
      "metadata": {
        "colab": {
          "base_uri": "https://localhost:8080/"
        },
        "id": "LL_ydbg_DIJf",
        "outputId": "d8ed98e0-896d-4746-8038-fc7f0ce29f6d"
      },
      "execution_count": null,
      "outputs": [
        {
          "output_type": "stream",
          "name": "stdout",
          "text": [
            "Third most popular Sci-Fi movie based on user ratings is: Jurassic Park (1993)\n"
          ]
        }
      ]
    },
    {
      "cell_type": "markdown",
      "source": [
        "IMPORTANT NOTE 2"
      ],
      "metadata": {
        "id": "-6tElkVPEu7y"
      }
    },
    {
      "cell_type": "code",
      "source": [
        "# Step 1: Read the links.csv file\n",
        "links_df = pd.read_csv('links.csv')  # Replace 'links.csv' with the actual file path\n",
        "\n",
        "# Step 2: Filter movies with more than 50 user ratings\n",
        "# Assuming you already have the filtered_movies DataFrame from the previous example\n",
        "filtered_movies = merged_df[merged_df['rating_count'] > 50]\n",
        "\n",
        "# Step 3: Merge filtered_movies with links_df based on movieId\n",
        "final_df = pd.merge(filtered_movies, links_df, on='movieId', how='inner')\n",
        "\n",
        "# Step 4: Generate IMDb URLs using imdbId\n",
        "final_df['imdb_url'] = 'http://www.imdb.com/title/tt' + final_df['imdbId'].astype(str) + '/'\n",
        "\n",
        "# Display the result\n",
        "print(final_df[['movieId', 'title', 'rating_count', 'rating_mean', 'imdb_url']])\n"
      ],
      "metadata": {
        "colab": {
          "base_uri": "https://localhost:8080/"
        },
        "id": "oCqctokh0Pcs",
        "outputId": "3709b0f3-4a50-41f2-dd5c-2d4c392413e8"
      },
      "execution_count": null,
      "outputs": [
        {
          "output_type": "stream",
          "name": "stdout",
          "text": [
            "     movieId                             title  rating_count  rating_mean  \\\n",
            "0          1                  Toy Story (1995)           215     3.920930   \n",
            "1          2                    Jumanji (1995)           110     3.431818   \n",
            "2          3           Grumpier Old Men (1995)            52     3.259615   \n",
            "3          6                       Heat (1995)           102     3.946078   \n",
            "4          7                    Sabrina (1995)            54     3.185185   \n",
            "..       ...                               ...           ...          ...   \n",
            "431   106782   Wolf of Wall Street, The (2013)            54     3.916667   \n",
            "432   109374  Grand Budapest Hotel, The (2014)            52     3.778846   \n",
            "433   109487               Interstellar (2014)            73     3.993151   \n",
            "434   112852    Guardians of the Galaxy (2014)            59     4.050847   \n",
            "435   122904                   Deadpool (2016)            54     3.833333   \n",
            "\n",
            "                                 imdb_url  \n",
            "0     http://www.imdb.com/title/tt114709/  \n",
            "1     http://www.imdb.com/title/tt113497/  \n",
            "2     http://www.imdb.com/title/tt113228/  \n",
            "3     http://www.imdb.com/title/tt113277/  \n",
            "4     http://www.imdb.com/title/tt114319/  \n",
            "..                                    ...  \n",
            "431   http://www.imdb.com/title/tt993846/  \n",
            "432  http://www.imdb.com/title/tt2278388/  \n",
            "433   http://www.imdb.com/title/tt816692/  \n",
            "434  http://www.imdb.com/title/tt2015381/  \n",
            "435  http://www.imdb.com/title/tt1431045/  \n",
            "\n",
            "[436 rows x 5 columns]\n"
          ]
        }
      ]
    },
    {
      "cell_type": "markdown",
      "source": [
        "Mention the movieId of the movie which has the highest IMDB rating.\n"
      ],
      "metadata": {
        "id": "Cz7pMZy3EhFR"
      }
    },
    {
      "cell_type": "code",
      "source": [
        "# Find the row with the highest IMDb rating\n",
        "max_imdb_row = final_df.loc[final_df['rating_mean'].idxmax()]\n",
        "\n",
        "# Extract the movieId of the movie with the highest IMDb rating\n",
        "movieId_highest_imdb_rating = max_imdb_row['movieId']\n",
        "\n",
        "# Display the result\n",
        "print(\"Movie with the highest IMDb rating has movieId:\", movieId_highest_imdb_rating)\n"
      ],
      "metadata": {
        "colab": {
          "base_uri": "https://localhost:8080/"
        },
        "id": "0YU1iV6U3j8d",
        "outputId": "4af642e2-650f-4599-b35c-6926a488d99e"
      },
      "execution_count": null,
      "outputs": [
        {
          "output_type": "stream",
          "name": "stdout",
          "text": [
            "Movie with the highest IMDb rating has movieId: 318\n"
          ]
        }
      ]
    },
    {
      "cell_type": "markdown",
      "source": [
        "Mention the movieId of the \"Sci-Fi\" movie which has the highest IMDB rating."
      ],
      "metadata": {
        "id": "QS4eplbNEkL-"
      }
    },
    {
      "cell_type": "code",
      "source": [
        "# Filter the DataFrame to include only Sci-Fi movies\n",
        "scifi_movies_df = final_df[final_df['genres'].str.contains('Sci-Fi')]\n",
        "\n",
        "# Find the row with the highest IMDb rating among Sci-Fi movies\n",
        "max_imdb_row_scifi = scifi_movies_df.loc[scifi_movies_df['rating_mean'].idxmax()]\n",
        "\n",
        "# Extract the movieId of the Sci-Fi movie with the highest IMDb rating\n",
        "movieId_highest_imdb_rating_scifi = max_imdb_row_scifi['movieId']\n",
        "\n",
        "# Display the result\n",
        "print(\"Sci-Fi movie with the highest IMDb rating has movieId:\", movieId_highest_imdb_rating_scifi)\n"
      ],
      "metadata": {
        "colab": {
          "base_uri": "https://localhost:8080/"
        },
        "id": "hZLLs7tM3z22",
        "outputId": "256f3c9d-3489-4b57-ce4e-eaa7d74602bd"
      },
      "execution_count": null,
      "outputs": [
        {
          "output_type": "stream",
          "name": "stdout",
          "text": [
            "Sci-Fi movie with the highest IMDb rating has movieId: 260\n"
          ]
        }
      ]
    }
  ]
}